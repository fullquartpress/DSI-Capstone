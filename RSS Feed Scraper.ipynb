{
 "cells": [
  {
   "cell_type": "code",
   "execution_count": 1,
   "metadata": {
    "collapsed": true
   },
   "outputs": [],
   "source": [
    "import requests\n",
    "from bs4 import BeautifulSoup\n",
    "\n",
    "import pandas as pd\n"
   ]
  },
  {
   "cell_type": "code",
   "execution_count": 2,
   "metadata": {},
   "outputs": [
    {
     "data": {
      "text/plain": [
       "'Tue, 20 Mar 2018 08:40:11 +0000'"
      ]
     },
     "execution_count": 2,
     "metadata": {},
     "output_type": "execute_result"
    }
   ],
   "source": [
    "url = 'https://www.agra-net.com/agra/international-coffee-report/rss/news-rss/'\n",
    "\n",
    "response = requests.get(url)\n",
    "\n",
    "soup = BeautifulSoup(response.content, 'lxml')\n",
    "\n",
    "items = soup.find_all('item')\n",
    "\n",
    "len(items)\n",
    "\n",
    "item = items[0]\n",
    "\n",
    "item.pubdate.text"
   ]
  },
  {
   "cell_type": "code",
   "execution_count": 3,
   "metadata": {
    "collapsed": true
   },
   "outputs": [],
   "source": [
    "news_items = []\n",
    "for item in items:\n",
    "    news_item = {}\n",
    "    news_item['title'] = item.title.text\n",
    "    news_item['date'] = item.pubdate.text\n",
    "    news_items.append(news_item)\n",
    "    \n",
    "    "
   ]
  },
  {
   "cell_type": "code",
   "execution_count": 4,
   "metadata": {},
   "outputs": [
    {
     "data": {
      "text/plain": [
       "[{'date': 'Tue, 20 Mar 2018 08:40:11 +0000',\n",
       "  'title': 'Coffee futures rise slightly from low level'},\n",
       " {'date': 'Mon, 19 Mar 2018 09:50:44 +0000',\n",
       "  'title': 'Arabica futures hit new nine-month low'},\n",
       " {'date': 'Mon, 19 Mar 2018 09:49:51 +0000',\n",
       "  'title': 'Brazil - Farmers sold 85% of 2017/18 crop'},\n",
       " {'date': 'Mon, 19 Mar 2018 09:49:09 +0000',\n",
       "  'title': 'United States - Green coffee stocks fell in February 2018'},\n",
       " {'date': 'Fri, 16 Mar 2018 08:28:16 +0000',\n",
       "  'title': 'Weaker real prompts nine-month low in arabica futures'},\n",
       " {'date': 'Thu, 15 Mar 2018 07:54:43 +0000',\n",
       "  'title': 'Coffee future prices settle lower'},\n",
       " {'date': 'Wed, 14 Mar 2018 11:13:20 +0000',\n",
       "  'title': 'Brazil - Starbucks signs licensing agreement with investment firm'},\n",
       " {'date': 'Wed, 14 Mar 2018 08:46:04 +0000',\n",
       "  'title': 'Arabica coffee future prices rise'},\n",
       " {'date': 'Tue, 13 Mar 2018 07:58:38 +0000',\n",
       "  'title': 'Arabica coffee futures weaken again slightly'},\n",
       " {'date': 'Mon, 12 Mar 2018 11:21:46 +0000',\n",
       "  'title': 'South Korea - Coop proposes coffee-barter trade with Vietnam '},\n",
       " {'date': 'Mon, 12 Mar 2018 11:20:49 +0000',\n",
       "  'title': 'Colombia - AgMin allocates USD27 mln for renewal of coffee plantations'},\n",
       " {'date': 'Mon, 12 Mar 2018 08:17:03 +0000',\n",
       "  'title': 'Arabica futures prices continue to ease'},\n",
       " {'date': 'Mon, 12 Mar 2018 08:16:21 +0000',\n",
       "  'title': 'Brazil - Green coffee exports declined by 8.4% y/y in February'},\n",
       " {'date': 'Fri, 09 Mar 2018 12:40:39 +0000',\n",
       "  'title': 'International - Certified arabica stocks rise slightly'},\n",
       " {'date': 'Fri, 09 Mar 2018 12:37:55 +0000',\n",
       "  'title': 'International - Tenderable robusta stocks decline once more'},\n",
       " {'date': 'Fri, 09 Mar 2018 12:21:04 +0000',\n",
       "  'title': \"A look at Guatemala's slow recovery from leaf rust\"},\n",
       " {'date': 'Fri, 09 Mar 2018 10:01:39 +0000',\n",
       "  'title': 'Coffee future prices settle lower'},\n",
       " {'date': 'Fri, 09 Mar 2018 10:00:43 +0000',\n",
       "  'title': 'European Union - Green coffee stocks rose in January '},\n",
       " {'date': 'Fri, 09 Mar 2018 09:59:13 +0000',\n",
       "  'title': 'Brazil - IBGE lowers forecast for 2018/19 coffee crop'},\n",
       " {'date': 'Fri, 09 Mar 2018 09:57:28 +0000',\n",
       "  'title': 'Vietnam - Coffee exports fell sharply in February 2018 '}]"
      ]
     },
     "execution_count": 4,
     "metadata": {},
     "output_type": "execute_result"
    }
   ],
   "source": [
    "news_items"
   ]
  },
  {
   "cell_type": "code",
   "execution_count": 25,
   "metadata": {},
   "outputs": [
    {
     "data": {
      "text/html": [
       "<div>\n",
       "<style>\n",
       "    .dataframe thead tr:only-child th {\n",
       "        text-align: right;\n",
       "    }\n",
       "\n",
       "    .dataframe thead th {\n",
       "        text-align: left;\n",
       "    }\n",
       "\n",
       "    .dataframe tbody tr th {\n",
       "        vertical-align: top;\n",
       "    }\n",
       "</style>\n",
       "<table border=\"1\" class=\"dataframe\">\n",
       "  <thead>\n",
       "    <tr style=\"text-align: right;\">\n",
       "      <th></th>\n",
       "      <th>date</th>\n",
       "      <th>title</th>\n",
       "    </tr>\n",
       "  </thead>\n",
       "  <tbody>\n",
       "    <tr>\n",
       "      <th>0</th>\n",
       "      <td>Mon, 19 Mar 2018 12:00:00 -0400</td>\n",
       "      <td>Royal Cup announces new RTD cold-brew coffees</td>\n",
       "    </tr>\n",
       "    <tr>\n",
       "      <th>1</th>\n",
       "      <td>Mon, 12 Mar 2018 00:00:00 -0400</td>\n",
       "      <td>Laughing Man Coffee announces new marketing ca...</td>\n",
       "    </tr>\n",
       "    <tr>\n",
       "      <th>2</th>\n",
       "      <td>Mon, 05 Mar 2018 07:00:00 -0500</td>\n",
       "      <td>True Lemon Energy, Iced Tea</td>\n",
       "    </tr>\n",
       "    <tr>\n",
       "      <th>3</th>\n",
       "      <td>Tue, 27 Feb 2018 07:00:00 -0500</td>\n",
       "      <td>Teavana Unsweetened Strawberry Apple Green Cra...</td>\n",
       "    </tr>\n",
       "    <tr>\n",
       "      <th>4</th>\n",
       "      <td>Mon, 19 Feb 2018 07:00:00 -0500</td>\n",
       "      <td>Teasäne Wellness Teas</td>\n",
       "    </tr>\n",
       "  </tbody>\n",
       "</table>\n",
       "</div>"
      ],
      "text/plain": [
       "                              date  \\\n",
       "0  Mon, 19 Mar 2018 12:00:00 -0400   \n",
       "1  Mon, 12 Mar 2018 00:00:00 -0400   \n",
       "2  Mon, 05 Mar 2018 07:00:00 -0500   \n",
       "3  Tue, 27 Feb 2018 07:00:00 -0500   \n",
       "4  Mon, 19 Feb 2018 07:00:00 -0500   \n",
       "\n",
       "                                               title  \n",
       "0      Royal Cup announces new RTD cold-brew coffees  \n",
       "1  Laughing Man Coffee announces new marketing ca...  \n",
       "2                       True Lemon Energy, Iced Tea   \n",
       "3  Teavana Unsweetened Strawberry Apple Green Cra...  \n",
       "4                             Teasäne Wellness Teas   "
      ]
     },
     "execution_count": 25,
     "metadata": {},
     "output_type": "execute_result"
    }
   ],
   "source": [
    "agra_net = pd.DataFrame(news_items)\n",
    "agra_net.head()"
   ]
  },
  {
   "cell_type": "code",
   "execution_count": 6,
   "metadata": {
    "collapsed": true
   },
   "outputs": [],
   "source": [
    "new_url = \"https://dailycoffeenews.com/feed/\""
   ]
  },
  {
   "cell_type": "code",
   "execution_count": 7,
   "metadata": {
    "collapsed": true
   },
   "outputs": [],
   "source": [
    "new_response = requests.get(new_url)"
   ]
  },
  {
   "cell_type": "code",
   "execution_count": 8,
   "metadata": {
    "collapsed": true
   },
   "outputs": [],
   "source": [
    "new_soup = BeautifulSoup(new_response.content, 'lxml')"
   ]
  },
  {
   "cell_type": "code",
   "execution_count": 9,
   "metadata": {
    "collapsed": true
   },
   "outputs": [],
   "source": [
    "new_items = new_soup.find_all('item')"
   ]
  },
  {
   "cell_type": "code",
   "execution_count": 10,
   "metadata": {},
   "outputs": [
    {
     "data": {
      "text/plain": [
       "10"
      ]
     },
     "execution_count": 10,
     "metadata": {},
     "output_type": "execute_result"
    }
   ],
   "source": [
    "len(new_items)"
   ]
  },
  {
   "cell_type": "code",
   "execution_count": 11,
   "metadata": {},
   "outputs": [
    {
     "data": {
      "text/plain": [
       "'Starbucks Committing $10 Million to Recyclable Cup Solutions'"
      ]
     },
     "execution_count": 11,
     "metadata": {},
     "output_type": "execute_result"
    }
   ],
   "source": [
    "story = new_items[0]\n",
    "story.title.text"
   ]
  },
  {
   "cell_type": "code",
   "execution_count": 12,
   "metadata": {
    "collapsed": true
   },
   "outputs": [],
   "source": [
    "news_items = []\n",
    "for item in new_items:\n",
    "    news_item = {}\n",
    "    news_item['title'] = item.title.text\n",
    "    news_item['date'] = item.pubdate.text\n",
    "    news_items.append(news_item)"
   ]
  },
  {
   "cell_type": "code",
   "execution_count": 13,
   "metadata": {},
   "outputs": [
    {
     "data": {
      "text/plain": [
       "[{'date': 'Tue, 20 Mar 2018 19:15:22 +0000',\n",
       "  'title': 'Starbucks Committing $10 Million to Recyclable Cup Solutions'},\n",
       " {'date': 'Tue, 20 Mar 2018 16:51:39 +0000',\n",
       "  'title': 'San Francisco Bay Gourmet Coffee and Costco Settle for $500K in Greenwashing Suit'},\n",
       " {'date': 'Tue, 20 Mar 2018 15:21:11 +0000',\n",
       "  'title': 'Created Co. Rebrands, Launches Three New Ceramics Lines for Specialty Cafes'},\n",
       " {'date': 'Mon, 19 Mar 2018 17:41:34 +0000',\n",
       "  'title': 'There Is No Shortcut to Sustainable Coffee'},\n",
       " {'date': 'Mon, 19 Mar 2018 15:56:21 +0000',\n",
       "  'title': 'Vigilante Coffee Seeks High Marks with New Cafe in College Park, Maryland'},\n",
       " {'date': 'Fri, 16 Mar 2018 16:20:00 +0000',\n",
       "  'title': 'The Extraction Is Better at Lawyering Than It Is at Owning Coffee Shops'},\n",
       " {'date': 'Fri, 16 Mar 2018 13:13:23 +0000',\n",
       "  'title': 'Forge Your Own Path: Five Keys to a Successful Career in Coffee'},\n",
       " {'date': 'Thu, 15 Mar 2018 17:38:30 +0000',\n",
       "  'title': 'Scratch Coffee Market Bakes Up a New Business for Fresh Roasts'},\n",
       " {'date': 'Thu, 15 Mar 2018 13:13:36 +0000',\n",
       "  'title': 'Freezing Green Coffee: A Tale of Infestation, Treatment and Consequences'},\n",
       " {'date': 'Wed, 14 Mar 2018 19:53:55 +0000',\n",
       "  'title': 'Apothic is Releasing a Cold-Brew-Infused Red Wine Blend'}]"
      ]
     },
     "execution_count": 13,
     "metadata": {},
     "output_type": "execute_result"
    }
   ],
   "source": [
    "news_items"
   ]
  },
  {
   "cell_type": "code",
   "execution_count": 28,
   "metadata": {},
   "outputs": [
    {
     "data": {
      "text/html": [
       "<div>\n",
       "<style>\n",
       "    .dataframe thead tr:only-child th {\n",
       "        text-align: right;\n",
       "    }\n",
       "\n",
       "    .dataframe thead th {\n",
       "        text-align: left;\n",
       "    }\n",
       "\n",
       "    .dataframe tbody tr th {\n",
       "        vertical-align: top;\n",
       "    }\n",
       "</style>\n",
       "<table border=\"1\" class=\"dataframe\">\n",
       "  <thead>\n",
       "    <tr style=\"text-align: right;\">\n",
       "      <th></th>\n",
       "      <th>date</th>\n",
       "      <th>title</th>\n",
       "    </tr>\n",
       "  </thead>\n",
       "  <tbody>\n",
       "    <tr>\n",
       "      <th>0</th>\n",
       "      <td>Mon, 19 Mar 2018 12:00:00 -0400</td>\n",
       "      <td>Royal Cup announces new RTD cold-brew coffees</td>\n",
       "    </tr>\n",
       "    <tr>\n",
       "      <th>1</th>\n",
       "      <td>Mon, 12 Mar 2018 00:00:00 -0400</td>\n",
       "      <td>Laughing Man Coffee announces new marketing ca...</td>\n",
       "    </tr>\n",
       "    <tr>\n",
       "      <th>2</th>\n",
       "      <td>Mon, 05 Mar 2018 07:00:00 -0500</td>\n",
       "      <td>True Lemon Energy, Iced Tea</td>\n",
       "    </tr>\n",
       "    <tr>\n",
       "      <th>3</th>\n",
       "      <td>Tue, 27 Feb 2018 07:00:00 -0500</td>\n",
       "      <td>Teavana Unsweetened Strawberry Apple Green Cra...</td>\n",
       "    </tr>\n",
       "    <tr>\n",
       "      <th>4</th>\n",
       "      <td>Mon, 19 Feb 2018 07:00:00 -0500</td>\n",
       "      <td>Teasäne Wellness Teas</td>\n",
       "    </tr>\n",
       "  </tbody>\n",
       "</table>\n",
       "</div>"
      ],
      "text/plain": [
       "                              date  \\\n",
       "0  Mon, 19 Mar 2018 12:00:00 -0400   \n",
       "1  Mon, 12 Mar 2018 00:00:00 -0400   \n",
       "2  Mon, 05 Mar 2018 07:00:00 -0500   \n",
       "3  Tue, 27 Feb 2018 07:00:00 -0500   \n",
       "4  Mon, 19 Feb 2018 07:00:00 -0500   \n",
       "\n",
       "                                               title  \n",
       "0      Royal Cup announces new RTD cold-brew coffees  \n",
       "1  Laughing Man Coffee announces new marketing ca...  \n",
       "2                       True Lemon Energy, Iced Tea   \n",
       "3  Teavana Unsweetened Strawberry Apple Green Cra...  \n",
       "4                             Teasäne Wellness Teas   "
      ]
     },
     "execution_count": 28,
     "metadata": {},
     "output_type": "execute_result"
    }
   ],
   "source": [
    "coffee_news_df = pd.DataFrame(news_items)\n",
    "coffee_news_df.head()"
   ]
  },
  {
   "cell_type": "code",
   "execution_count": null,
   "metadata": {
    "collapsed": true
   },
   "outputs": [],
   "source": []
  },
  {
   "cell_type": "code",
   "execution_count": 16,
   "metadata": {},
   "outputs": [
    {
     "data": {
      "text/plain": [
       "'Energy demand steps back in play'"
      ]
     },
     "execution_count": 16,
     "metadata": {},
     "output_type": "execute_result"
    }
   ],
   "source": [
    "futures_url = 'http://www.futuresmag.com/rss/commodities'\n",
    "\n",
    "futures_response = requests.get(futures_url)\n",
    "\n",
    "futures_soup = BeautifulSoup(futures_response.content, 'lxml')\n",
    "\n",
    "futures_items = futures_soup.find_all('item')\n",
    "\n",
    "len(futures_items)\n",
    "\n",
    "item = futures_items[0]\n",
    "\n",
    "item.title.text"
   ]
  },
  {
   "cell_type": "code",
   "execution_count": 17,
   "metadata": {},
   "outputs": [
    {
     "data": {
      "text/plain": [
       "10"
      ]
     },
     "execution_count": 17,
     "metadata": {},
     "output_type": "execute_result"
    }
   ],
   "source": [
    "len(futures_items)"
   ]
  },
  {
   "cell_type": "code",
   "execution_count": 18,
   "metadata": {
    "collapsed": true
   },
   "outputs": [],
   "source": [
    "news_items = []\n",
    "for item in futures_items:\n",
    "    news_item = {}\n",
    "    news_item['title'] = item.title.text\n",
    "    news_item['date'] = item.pubdate.text\n",
    "    news_items.append(news_item)"
   ]
  },
  {
   "cell_type": "code",
   "execution_count": 29,
   "metadata": {},
   "outputs": [
    {
     "data": {
      "text/html": [
       "<div>\n",
       "<style>\n",
       "    .dataframe thead tr:only-child th {\n",
       "        text-align: right;\n",
       "    }\n",
       "\n",
       "    .dataframe thead th {\n",
       "        text-align: left;\n",
       "    }\n",
       "\n",
       "    .dataframe tbody tr th {\n",
       "        vertical-align: top;\n",
       "    }\n",
       "</style>\n",
       "<table border=\"1\" class=\"dataframe\">\n",
       "  <thead>\n",
       "    <tr style=\"text-align: right;\">\n",
       "      <th></th>\n",
       "      <th>date</th>\n",
       "      <th>title</th>\n",
       "    </tr>\n",
       "  </thead>\n",
       "  <tbody>\n",
       "    <tr>\n",
       "      <th>0</th>\n",
       "      <td>Mon, 19 Mar 2018 12:00:00 -0400</td>\n",
       "      <td>Royal Cup announces new RTD cold-brew coffees</td>\n",
       "    </tr>\n",
       "    <tr>\n",
       "      <th>1</th>\n",
       "      <td>Mon, 12 Mar 2018 00:00:00 -0400</td>\n",
       "      <td>Laughing Man Coffee announces new marketing ca...</td>\n",
       "    </tr>\n",
       "    <tr>\n",
       "      <th>2</th>\n",
       "      <td>Mon, 05 Mar 2018 07:00:00 -0500</td>\n",
       "      <td>True Lemon Energy, Iced Tea</td>\n",
       "    </tr>\n",
       "    <tr>\n",
       "      <th>3</th>\n",
       "      <td>Tue, 27 Feb 2018 07:00:00 -0500</td>\n",
       "      <td>Teavana Unsweetened Strawberry Apple Green Cra...</td>\n",
       "    </tr>\n",
       "    <tr>\n",
       "      <th>4</th>\n",
       "      <td>Mon, 19 Feb 2018 07:00:00 -0500</td>\n",
       "      <td>Teasäne Wellness Teas</td>\n",
       "    </tr>\n",
       "  </tbody>\n",
       "</table>\n",
       "</div>"
      ],
      "text/plain": [
       "                              date  \\\n",
       "0  Mon, 19 Mar 2018 12:00:00 -0400   \n",
       "1  Mon, 12 Mar 2018 00:00:00 -0400   \n",
       "2  Mon, 05 Mar 2018 07:00:00 -0500   \n",
       "3  Tue, 27 Feb 2018 07:00:00 -0500   \n",
       "4  Mon, 19 Feb 2018 07:00:00 -0500   \n",
       "\n",
       "                                               title  \n",
       "0      Royal Cup announces new RTD cold-brew coffees  \n",
       "1  Laughing Man Coffee announces new marketing ca...  \n",
       "2                       True Lemon Energy, Iced Tea   \n",
       "3  Teavana Unsweetened Strawberry Apple Green Cra...  \n",
       "4                             Teasäne Wellness Teas   "
      ]
     },
     "execution_count": 29,
     "metadata": {},
     "output_type": "execute_result"
    }
   ],
   "source": [
    "news_items\n",
    "futures_df = pd.DataFrame(news_items)\n",
    "futures_df.head()"
   ]
  },
  {
   "cell_type": "code",
   "execution_count": 20,
   "metadata": {},
   "outputs": [
    {
     "name": "stdout",
     "output_type": "stream",
     "text": [
      "50\n"
     ]
    },
    {
     "data": {
      "text/plain": [
       "'CHART/TABLE: Futures Review: Coffee rises slightly from low level'"
      ]
     },
     "execution_count": 20,
     "metadata": {},
     "output_type": "execute_result"
    }
   ],
   "source": [
    "iegvu_url = 'https://iegvu.agribusinessintelligence.informa.com/rss/search-feed.aspx?page=1&publication=IEG%20Vu&iegvu=Coffee&fbzunique=7d82f1d7-2bb1-11e8-b82a-0025907713eb&sortBy=date&sortOrder=desc&perPage=50'\n",
    "iegvu_response = requests.get(iegvu_url)\n",
    "\n",
    "iegvu_soup = BeautifulSoup(iegvu_response.content, 'lxml')\n",
    "\n",
    "\n",
    "iegvu_items = iegvu_soup.find_all('item')\n",
    "\n",
    "print(len(iegvu_items))\n",
    "\n",
    "item = iegvu_items[0]\n",
    "\n",
    "item.title.text"
   ]
  },
  {
   "cell_type": "code",
   "execution_count": 30,
   "metadata": {},
   "outputs": [
    {
     "data": {
      "text/html": [
       "<div>\n",
       "<style>\n",
       "    .dataframe thead tr:only-child th {\n",
       "        text-align: right;\n",
       "    }\n",
       "\n",
       "    .dataframe thead th {\n",
       "        text-align: left;\n",
       "    }\n",
       "\n",
       "    .dataframe tbody tr th {\n",
       "        vertical-align: top;\n",
       "    }\n",
       "</style>\n",
       "<table border=\"1\" class=\"dataframe\">\n",
       "  <thead>\n",
       "    <tr style=\"text-align: right;\">\n",
       "      <th></th>\n",
       "      <th>date</th>\n",
       "      <th>title</th>\n",
       "    </tr>\n",
       "  </thead>\n",
       "  <tbody>\n",
       "    <tr>\n",
       "      <th>0</th>\n",
       "      <td>Tue, 20 Mar 2018 08:12:17 GMT</td>\n",
       "      <td>CHART/TABLE: Futures Review: Coffee rises slig...</td>\n",
       "    </tr>\n",
       "    <tr>\n",
       "      <th>1</th>\n",
       "      <td>Mon, 19 Mar 2018 15:18:13 GMT</td>\n",
       "      <td>CHART/TABLE: US green coffee stocks fell to 13...</td>\n",
       "    </tr>\n",
       "    <tr>\n",
       "      <th>2</th>\n",
       "      <td>Mon, 19 Mar 2018 13:09:10 GMT</td>\n",
       "      <td>CHART/TABLE: Futures Review: Arabica hits new ...</td>\n",
       "    </tr>\n",
       "    <tr>\n",
       "      <th>3</th>\n",
       "      <td>Mon, 19 Mar 2018 12:20:05 GMT</td>\n",
       "      <td>Mitsui &amp;amp; Co partners with US fish importer</td>\n",
       "    </tr>\n",
       "    <tr>\n",
       "      <th>4</th>\n",
       "      <td>Mon, 19 Mar 2018 08:43:04 GMT</td>\n",
       "      <td>INTERACTIVE DASHBOARDS: IEG Vu Prices Briefing...</td>\n",
       "    </tr>\n",
       "  </tbody>\n",
       "</table>\n",
       "</div>"
      ],
      "text/plain": [
       "                            date  \\\n",
       "0  Tue, 20 Mar 2018 08:12:17 GMT   \n",
       "1  Mon, 19 Mar 2018 15:18:13 GMT   \n",
       "2  Mon, 19 Mar 2018 13:09:10 GMT   \n",
       "3  Mon, 19 Mar 2018 12:20:05 GMT   \n",
       "4  Mon, 19 Mar 2018 08:43:04 GMT   \n",
       "\n",
       "                                               title  \n",
       "0  CHART/TABLE: Futures Review: Coffee rises slig...  \n",
       "1  CHART/TABLE: US green coffee stocks fell to 13...  \n",
       "2  CHART/TABLE: Futures Review: Arabica hits new ...  \n",
       "3     Mitsui &amp; Co partners with US fish importer  \n",
       "4  INTERACTIVE DASHBOARDS: IEG Vu Prices Briefing...  "
      ]
     },
     "execution_count": 30,
     "metadata": {},
     "output_type": "execute_result"
    }
   ],
   "source": [
    "news_items = []\n",
    "for item in iegvu_items:\n",
    "    news_item = {}\n",
    "    news_item['title'] = item.title.text\n",
    "    news_item['date'] = item.pubdate.text\n",
    "    news_items.append(news_item)\n",
    "    \n",
    "investing_df = pd.DataFrame(news_items)\n",
    "investing_df.head()"
   ]
  },
  {
   "cell_type": "code",
   "execution_count": 22,
   "metadata": {},
   "outputs": [
    {
     "name": "stdout",
     "output_type": "stream",
     "text": [
      "30\n"
     ]
    },
    {
     "data": {
      "text/plain": [
       "'Royal Cup announces new RTD cold-brew coffees'"
      ]
     },
     "execution_count": 22,
     "metadata": {},
     "output_type": "execute_result"
    }
   ],
   "source": [
    "bev_url = 'https://www.bevindustry.com/rss/topic/2242-tea-and-coffee'\n",
    "bev_response = requests.get(bev_url)\n",
    "\n",
    "bev_soup = BeautifulSoup(bev_response.content, 'lxml')\n",
    "\n",
    "\n",
    "bev_items = bev_soup.find_all('item')\n",
    "\n",
    "print(len(bev_items))\n",
    "\n",
    "item = bev_items[0]\n",
    "\n",
    "item.title.text"
   ]
  },
  {
   "cell_type": "code",
   "execution_count": 31,
   "metadata": {},
   "outputs": [
    {
     "data": {
      "text/html": [
       "<div>\n",
       "<style>\n",
       "    .dataframe thead tr:only-child th {\n",
       "        text-align: right;\n",
       "    }\n",
       "\n",
       "    .dataframe thead th {\n",
       "        text-align: left;\n",
       "    }\n",
       "\n",
       "    .dataframe tbody tr th {\n",
       "        vertical-align: top;\n",
       "    }\n",
       "</style>\n",
       "<table border=\"1\" class=\"dataframe\">\n",
       "  <thead>\n",
       "    <tr style=\"text-align: right;\">\n",
       "      <th></th>\n",
       "      <th>date</th>\n",
       "      <th>title</th>\n",
       "    </tr>\n",
       "  </thead>\n",
       "  <tbody>\n",
       "    <tr>\n",
       "      <th>0</th>\n",
       "      <td>Mon, 19 Mar 2018 12:00:00 -0400</td>\n",
       "      <td>Royal Cup announces new RTD cold-brew coffees</td>\n",
       "    </tr>\n",
       "    <tr>\n",
       "      <th>1</th>\n",
       "      <td>Mon, 12 Mar 2018 00:00:00 -0400</td>\n",
       "      <td>Laughing Man Coffee announces new marketing ca...</td>\n",
       "    </tr>\n",
       "    <tr>\n",
       "      <th>2</th>\n",
       "      <td>Mon, 05 Mar 2018 07:00:00 -0500</td>\n",
       "      <td>True Lemon Energy, Iced Tea</td>\n",
       "    </tr>\n",
       "    <tr>\n",
       "      <th>3</th>\n",
       "      <td>Tue, 27 Feb 2018 07:00:00 -0500</td>\n",
       "      <td>Teavana Unsweetened Strawberry Apple Green Cra...</td>\n",
       "    </tr>\n",
       "    <tr>\n",
       "      <th>4</th>\n",
       "      <td>Mon, 19 Feb 2018 07:00:00 -0500</td>\n",
       "      <td>Teasäne Wellness Teas</td>\n",
       "    </tr>\n",
       "  </tbody>\n",
       "</table>\n",
       "</div>"
      ],
      "text/plain": [
       "                              date  \\\n",
       "0  Mon, 19 Mar 2018 12:00:00 -0400   \n",
       "1  Mon, 12 Mar 2018 00:00:00 -0400   \n",
       "2  Mon, 05 Mar 2018 07:00:00 -0500   \n",
       "3  Tue, 27 Feb 2018 07:00:00 -0500   \n",
       "4  Mon, 19 Feb 2018 07:00:00 -0500   \n",
       "\n",
       "                                               title  \n",
       "0      Royal Cup announces new RTD cold-brew coffees  \n",
       "1  Laughing Man Coffee announces new marketing ca...  \n",
       "2                       True Lemon Energy, Iced Tea   \n",
       "3  Teavana Unsweetened Strawberry Apple Green Cra...  \n",
       "4                             Teasäne Wellness Teas   "
      ]
     },
     "execution_count": 31,
     "metadata": {},
     "output_type": "execute_result"
    }
   ],
   "source": [
    "news_items = []\n",
    "for item in bev_items:\n",
    "    news_item = {}\n",
    "    news_item['title'] = item.title.text\n",
    "    news_item['date'] = item.pubdate.text\n",
    "    news_items.append(news_item)\n",
    "    \n",
    "bev_df = pd.DataFrame(news_items)\n",
    "bev_df.head()"
   ]
  },
  {
   "cell_type": "code",
   "execution_count": 35,
   "metadata": {},
   "outputs": [
    {
     "data": {
      "text/plain": [
       "(170, 2)"
      ]
     },
     "execution_count": 35,
     "metadata": {},
     "output_type": "execute_result"
    }
   ],
   "source": [
    "coffee_df = pd.concat([agra_net, coffee_news_df, futures_df, investing_df, bev_df])\n",
    "coffee_df.shape"
   ]
  },
  {
   "cell_type": "code",
   "execution_count": null,
   "metadata": {
    "collapsed": true
   },
   "outputs": [],
   "source": [
    "ti"
   ]
  }
 ],
 "metadata": {
  "kernelspec": {
   "display_name": "Python 3",
   "language": "python",
   "name": "python3"
  },
  "language_info": {
   "codemirror_mode": {
    "name": "ipython",
    "version": 3
   },
   "file_extension": ".py",
   "mimetype": "text/x-python",
   "name": "python",
   "nbconvert_exporter": "python",
   "pygments_lexer": "ipython3",
   "version": "3.6.3"
  }
 },
 "nbformat": 4,
 "nbformat_minor": 2
}
