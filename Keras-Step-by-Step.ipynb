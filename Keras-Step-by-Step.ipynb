{
 "cells": [
  {
   "cell_type": "code",
   "execution_count": 3,
   "metadata": {},
   "outputs": [
    {
     "name": "stderr",
     "output_type": "stream",
     "text": [
      "Using TensorFlow backend.\n"
     ]
    }
   ],
   "source": [
    "import sys\n",
    "import numpy as np \n",
    "import pandas as pd\n",
    "import matplotlib.pyplot as plt\n",
    "\n",
    "from keras.preprocessing.text import text_to_word_sequence\n",
    "\n",
    "% matplotlib inline"
   ]
  },
  {
   "cell_type": "code",
   "execution_count": 2,
   "metadata": {},
   "outputs": [
    {
     "data": {
      "text/html": [
       "<div>\n",
       "<table border=\"1\" class=\"dataframe\">\n",
       "  <thead>\n",
       "    <tr style=\"text-align: right;\">\n",
       "      <th></th>\n",
       "      <th>Unnamed: 0</th>\n",
       "      <th>Unnamed: 0.1</th>\n",
       "      <th>year</th>\n",
       "      <th>month</th>\n",
       "      <th>day</th>\n",
       "      <th>level_3</th>\n",
       "      <th>Title</th>\n",
       "      <th>Date</th>\n",
       "      <th>Price</th>\n",
       "      <th>Price_Change</th>\n",
       "      <th>Direction</th>\n",
       "      <th>Rate_of_Change</th>\n",
       "    </tr>\n",
       "  </thead>\n",
       "  <tbody>\n",
       "    <tr>\n",
       "      <th>0</th>\n",
       "      <td>0</td>\n",
       "      <td>0</td>\n",
       "      <td>2007</td>\n",
       "      <td>1</td>\n",
       "      <td>2</td>\n",
       "      <td>Title</td>\n",
       "      <td>India earns more from higher coffee exports in...</td>\n",
       "      <td>2007-01-02</td>\n",
       "      <td>1.1506</td>\n",
       "      <td>0.0000</td>\n",
       "      <td>0</td>\n",
       "      <td>0.000000</td>\n",
       "    </tr>\n",
       "    <tr>\n",
       "      <th>1</th>\n",
       "      <td>1</td>\n",
       "      <td>1</td>\n",
       "      <td>2007</td>\n",
       "      <td>1</td>\n",
       "      <td>3</td>\n",
       "      <td>Title</td>\n",
       "      <td>Friesland raises stake in Indonesian subsidiar...</td>\n",
       "      <td>2007-01-03</td>\n",
       "      <td>1.1760</td>\n",
       "      <td>0.0254</td>\n",
       "      <td>0</td>\n",
       "      <td>0.022075</td>\n",
       "    </tr>\n",
       "    <tr>\n",
       "      <th>2</th>\n",
       "      <td>2</td>\n",
       "      <td>2</td>\n",
       "      <td>2007</td>\n",
       "      <td>1</td>\n",
       "      <td>4</td>\n",
       "      <td>Title</td>\n",
       "      <td>Nymex announces start date for soft commodity ...</td>\n",
       "      <td>2007-01-04</td>\n",
       "      <td>1.1451</td>\n",
       "      <td>-0.0309</td>\n",
       "      <td>0</td>\n",
       "      <td>-0.026276</td>\n",
       "    </tr>\n",
       "    <tr>\n",
       "      <th>3</th>\n",
       "      <td>3</td>\n",
       "      <td>3</td>\n",
       "      <td>2007</td>\n",
       "      <td>1</td>\n",
       "      <td>5</td>\n",
       "      <td>Title</td>\n",
       "      <td>India's largest coffee chain extends to Pakistan</td>\n",
       "      <td>2007-01-05</td>\n",
       "      <td>1.1506</td>\n",
       "      <td>0.0055</td>\n",
       "      <td>0</td>\n",
       "      <td>0.004803</td>\n",
       "    </tr>\n",
       "    <tr>\n",
       "      <th>4</th>\n",
       "      <td>4</td>\n",
       "      <td>4</td>\n",
       "      <td>2007</td>\n",
       "      <td>1</td>\n",
       "      <td>7</td>\n",
       "      <td>Title</td>\n",
       "      <td>Honduran coffee sales Ugandan coffee funds Soy...</td>\n",
       "      <td>2007-01-07</td>\n",
       "      <td>1.1506</td>\n",
       "      <td>-0.0000</td>\n",
       "      <td>0</td>\n",
       "      <td>0.000000</td>\n",
       "    </tr>\n",
       "  </tbody>\n",
       "</table>\n",
       "</div>"
      ],
      "text/plain": [
       "   Unnamed: 0  Unnamed: 0.1  year  month  day level_3  \\\n",
       "0           0             0  2007      1    2   Title   \n",
       "1           1             1  2007      1    3   Title   \n",
       "2           2             2  2007      1    4   Title   \n",
       "3           3             3  2007      1    5   Title   \n",
       "4           4             4  2007      1    7   Title   \n",
       "\n",
       "                                               Title       Date   Price  \\\n",
       "0  India earns more from higher coffee exports in... 2007-01-02  1.1506   \n",
       "1  Friesland raises stake in Indonesian subsidiar... 2007-01-03  1.1760   \n",
       "2  Nymex announces start date for soft commodity ... 2007-01-04  1.1451   \n",
       "3  India's largest coffee chain extends to Pakistan  2007-01-05  1.1506   \n",
       "4  Honduran coffee sales Ugandan coffee funds Soy... 2007-01-07  1.1506   \n",
       "\n",
       "   Price_Change  Direction  Rate_of_Change  \n",
       "0        0.0000          0        0.000000  \n",
       "1        0.0254          0        0.022075  \n",
       "2       -0.0309          0       -0.026276  \n",
       "3        0.0055          0        0.004803  \n",
       "4       -0.0000          0        0.000000  "
      ]
     },
     "execution_count": 2,
     "metadata": {},
     "output_type": "execute_result"
    }
   ],
   "source": [
    "coffee = pd.read_csv('./updated_coffee_df.csv')\n",
    "coffee['Date'] = pd.to_datetime(coffee['Date'])\n",
    "coffee.head()"
   ]
  },
  {
   "cell_type": "code",
   "execution_count": null,
   "metadata": {},
   "outputs": [],
   "source": []
  }
 ],
 "metadata": {
  "kernelspec": {
   "display_name": "Python 3",
   "language": "python",
   "name": "python3"
  },
  "language_info": {
   "codemirror_mode": {
    "name": "ipython",
    "version": 3
   },
   "file_extension": ".py",
   "mimetype": "text/x-python",
   "name": "python",
   "nbconvert_exporter": "python",
   "pygments_lexer": "ipython3",
   "version": "3.6.3"
  }
 },
 "nbformat": 4,
 "nbformat_minor": 2
}
