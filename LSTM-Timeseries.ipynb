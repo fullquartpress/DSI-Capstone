{
 "cells": [
  {
   "cell_type": "code",
   "execution_count": 1,
   "metadata": {},
   "outputs": [
    {
     "name": "stderr",
     "output_type": "stream",
     "text": [
      "/opt/conda/lib/python3.6/site-packages/h5py/__init__.py:36: FutureWarning: Conversion of the second argument of issubdtype from `float` to `np.floating` is deprecated. In future, it will be treated as `np.float64 == np.dtype(float).type`.\n",
      "  from ._conv import register_converters as _register_converters\n",
      "Using TensorFlow backend.\n"
     ]
    }
   ],
   "source": [
    "from math import sqrt\n",
    "import pandas as pd \n",
    "import numpy as np\n",
    "import matplotlib.pyplot as plt\n",
    "\n",
    "from sklearn.preprocessing import StandardScaler\n",
    "from sklearn.model_selection import train_test_split\n",
    "from sklearn.metrics import mean_squared_error\n",
    "\n",
    "from keras.preprocessing.text import Tokenizer\n",
    "from keras.models import Sequential\n",
    "from keras.layers import Dense, Dropout\n",
    "from keras.layers import Flatten\n",
    "from keras.layers.embeddings import Embedding\n",
    "from keras.layers import LSTM\n",
    "from keras.utils import plot_model\n",
    "\n",
    "%matplotlib inline"
   ]
  },
  {
   "cell_type": "code",
   "execution_count": 2,
   "metadata": {},
   "outputs": [],
   "source": [
    "coffee = pd.read_csv('working_coffee_csv.csv')"
   ]
  },
  {
   "cell_type": "code",
   "execution_count": 3,
   "metadata": {},
   "outputs": [
    {
     "data": {
      "text/html": [
       "<div>\n",
       "<table border=\"1\" class=\"dataframe\">\n",
       "  <thead>\n",
       "    <tr style=\"text-align: right;\">\n",
       "      <th></th>\n",
       "      <th>Date</th>\n",
       "      <th>Title</th>\n",
       "      <th>Price</th>\n",
       "      <th>Price_Change</th>\n",
       "      <th>Direction</th>\n",
       "      <th>Rate_of_Change</th>\n",
       "      <th>CV_Vectors</th>\n",
       "      <th>TFIDF_Vectors</th>\n",
       "      <th>Hash_Vectors</th>\n",
       "    </tr>\n",
       "  </thead>\n",
       "  <tbody>\n",
       "    <tr>\n",
       "      <th>0</th>\n",
       "      <td>2007-01-02</td>\n",
       "      <td>India earns more from higher coffee exports in...</td>\n",
       "      <td>1.1506</td>\n",
       "      <td>0.0000</td>\n",
       "      <td>0</td>\n",
       "      <td>0.000000</td>\n",
       "      <td>[0 0 0 ... 0 0 0]</td>\n",
       "      <td>[0. 0. 0. ... 0. 0. 0.]</td>\n",
       "      <td>[0. 0. 0. ... 0. 0. 0.]</td>\n",
       "    </tr>\n",
       "    <tr>\n",
       "      <th>1</th>\n",
       "      <td>2007-01-03</td>\n",
       "      <td>Friesland raises stake in Indonesian subsidiar...</td>\n",
       "      <td>1.1760</td>\n",
       "      <td>0.0254</td>\n",
       "      <td>0</td>\n",
       "      <td>0.022075</td>\n",
       "      <td>[0 0 0 ... 0 0 0]</td>\n",
       "      <td>[0. 0. 0. ... 0. 0. 0.]</td>\n",
       "      <td>[0. 0. 0. ... 0. 0. 0.]</td>\n",
       "    </tr>\n",
       "    <tr>\n",
       "      <th>2</th>\n",
       "      <td>2007-01-04</td>\n",
       "      <td>Nymex announces start date for soft commodity ...</td>\n",
       "      <td>1.1451</td>\n",
       "      <td>-0.0309</td>\n",
       "      <td>0</td>\n",
       "      <td>-0.026276</td>\n",
       "      <td>[0 0 0 ... 0 0 0]</td>\n",
       "      <td>[0. 0. 0. ... 0. 0. 0.]</td>\n",
       "      <td>[0. 0. 0. ... 0. 0. 0.]</td>\n",
       "    </tr>\n",
       "    <tr>\n",
       "      <th>3</th>\n",
       "      <td>2007-01-05</td>\n",
       "      <td>India's largest coffee chain extends to Pakistan</td>\n",
       "      <td>1.1506</td>\n",
       "      <td>0.0055</td>\n",
       "      <td>0</td>\n",
       "      <td>0.004803</td>\n",
       "      <td>[0 0 0 ... 0 0 0]</td>\n",
       "      <td>[0. 0. 0. ... 0. 0. 0.]</td>\n",
       "      <td>[0. 0. 0. ... 0. 0. 0.]</td>\n",
       "    </tr>\n",
       "    <tr>\n",
       "      <th>4</th>\n",
       "      <td>2007-01-07</td>\n",
       "      <td>Honduran coffee sales Ugandan coffee funds Soy...</td>\n",
       "      <td>1.1506</td>\n",
       "      <td>-0.0000</td>\n",
       "      <td>0</td>\n",
       "      <td>0.000000</td>\n",
       "      <td>[0 0 0 ... 0 0 0]</td>\n",
       "      <td>[0. 0. 0. ... 0. 0. 0.]</td>\n",
       "      <td>[0. 0. 0. ... 0. 0. 0.]</td>\n",
       "    </tr>\n",
       "  </tbody>\n",
       "</table>\n",
       "</div>"
      ],
      "text/plain": [
       "         Date                                              Title   Price  \\\n",
       "0  2007-01-02  India earns more from higher coffee exports in...  1.1506   \n",
       "1  2007-01-03  Friesland raises stake in Indonesian subsidiar...  1.1760   \n",
       "2  2007-01-04  Nymex announces start date for soft commodity ...  1.1451   \n",
       "3  2007-01-05  India's largest coffee chain extends to Pakistan   1.1506   \n",
       "4  2007-01-07  Honduran coffee sales Ugandan coffee funds Soy...  1.1506   \n",
       "\n",
       "   Price_Change  Direction  Rate_of_Change         CV_Vectors  \\\n",
       "0        0.0000          0        0.000000  [0 0 0 ... 0 0 0]   \n",
       "1        0.0254          0        0.022075  [0 0 0 ... 0 0 0]   \n",
       "2       -0.0309          0       -0.026276  [0 0 0 ... 0 0 0]   \n",
       "3        0.0055          0        0.004803  [0 0 0 ... 0 0 0]   \n",
       "4       -0.0000          0        0.000000  [0 0 0 ... 0 0 0]   \n",
       "\n",
       "             TFIDF_Vectors             Hash_Vectors  \n",
       "0  [0. 0. 0. ... 0. 0. 0.]  [0. 0. 0. ... 0. 0. 0.]  \n",
       "1  [0. 0. 0. ... 0. 0. 0.]  [0. 0. 0. ... 0. 0. 0.]  \n",
       "2  [0. 0. 0. ... 0. 0. 0.]  [0. 0. 0. ... 0. 0. 0.]  \n",
       "3  [0. 0. 0. ... 0. 0. 0.]  [0. 0. 0. ... 0. 0. 0.]  \n",
       "4  [0. 0. 0. ... 0. 0. 0.]  [0. 0. 0. ... 0. 0. 0.]  "
      ]
     },
     "execution_count": 3,
     "metadata": {},
     "output_type": "execute_result"
    }
   ],
   "source": [
    "coffee.head()"
   ]
  },
  {
   "cell_type": "code",
   "execution_count": 4,
   "metadata": {},
   "outputs": [],
   "source": [
    "coffee['Date'] = pd.to_datetime(coffee['Date'])\n",
    "coffee = coffee.set_index(\"Date\")\n",
    "\n"
   ]
  },
  {
   "cell_type": "code",
   "execution_count": 5,
   "metadata": {},
   "outputs": [
    {
     "data": {
      "text/html": [
       "<div>\n",
       "<table border=\"1\" class=\"dataframe\">\n",
       "  <thead>\n",
       "    <tr style=\"text-align: right;\">\n",
       "      <th></th>\n",
       "      <th>Title</th>\n",
       "      <th>Rate_of_Change</th>\n",
       "      <th>CV_Vectors</th>\n",
       "      <th>TFIDF_Vectors</th>\n",
       "      <th>Hash_Vectors</th>\n",
       "      <th>Price</th>\n",
       "    </tr>\n",
       "    <tr>\n",
       "      <th>Date</th>\n",
       "      <th></th>\n",
       "      <th></th>\n",
       "      <th></th>\n",
       "      <th></th>\n",
       "      <th></th>\n",
       "      <th></th>\n",
       "    </tr>\n",
       "  </thead>\n",
       "  <tbody>\n",
       "    <tr>\n",
       "      <th>2007-01-03</th>\n",
       "      <td>India earns more from higher coffee exports in...</td>\n",
       "      <td>0.000000</td>\n",
       "      <td>[0 0 0 ... 0 0 0]</td>\n",
       "      <td>[0. 0. 0. ... 0. 0. 0.]</td>\n",
       "      <td>[0. 0. 0. ... 0. 0. 0.]</td>\n",
       "      <td>1.1760</td>\n",
       "    </tr>\n",
       "    <tr>\n",
       "      <th>2007-01-04</th>\n",
       "      <td>Friesland raises stake in Indonesian subsidiar...</td>\n",
       "      <td>0.022075</td>\n",
       "      <td>[0 0 0 ... 0 0 0]</td>\n",
       "      <td>[0. 0. 0. ... 0. 0. 0.]</td>\n",
       "      <td>[0. 0. 0. ... 0. 0. 0.]</td>\n",
       "      <td>1.1451</td>\n",
       "    </tr>\n",
       "    <tr>\n",
       "      <th>2007-01-05</th>\n",
       "      <td>Nymex announces start date for soft commodity ...</td>\n",
       "      <td>-0.026276</td>\n",
       "      <td>[0 0 0 ... 0 0 0]</td>\n",
       "      <td>[0. 0. 0. ... 0. 0. 0.]</td>\n",
       "      <td>[0. 0. 0. ... 0. 0. 0.]</td>\n",
       "      <td>1.1506</td>\n",
       "    </tr>\n",
       "    <tr>\n",
       "      <th>2007-01-07</th>\n",
       "      <td>India's largest coffee chain extends to Pakistan</td>\n",
       "      <td>0.004803</td>\n",
       "      <td>[0 0 0 ... 0 0 0]</td>\n",
       "      <td>[0. 0. 0. ... 0. 0. 0.]</td>\n",
       "      <td>[0. 0. 0. ... 0. 0. 0.]</td>\n",
       "      <td>1.1506</td>\n",
       "    </tr>\n",
       "    <tr>\n",
       "      <th>2007-01-09</th>\n",
       "      <td>Honduran coffee sales Ugandan coffee funds Soy...</td>\n",
       "      <td>0.000000</td>\n",
       "      <td>[0 0 0 ... 0 0 0]</td>\n",
       "      <td>[0. 0. 0. ... 0. 0. 0.]</td>\n",
       "      <td>[0. 0. 0. ... 0. 0. 0.]</td>\n",
       "      <td>1.1290</td>\n",
       "    </tr>\n",
       "  </tbody>\n",
       "</table>\n",
       "</div>"
      ],
      "text/plain": [
       "                                                        Title  Rate_of_Change  \\\n",
       "Date                                                                            \n",
       "2007-01-03  India earns more from higher coffee exports in...        0.000000   \n",
       "2007-01-04  Friesland raises stake in Indonesian subsidiar...        0.022075   \n",
       "2007-01-05  Nymex announces start date for soft commodity ...       -0.026276   \n",
       "2007-01-07  India's largest coffee chain extends to Pakistan         0.004803   \n",
       "2007-01-09  Honduran coffee sales Ugandan coffee funds Soy...        0.000000   \n",
       "\n",
       "                   CV_Vectors            TFIDF_Vectors  \\\n",
       "Date                                                     \n",
       "2007-01-03  [0 0 0 ... 0 0 0]  [0. 0. 0. ... 0. 0. 0.]   \n",
       "2007-01-04  [0 0 0 ... 0 0 0]  [0. 0. 0. ... 0. 0. 0.]   \n",
       "2007-01-05  [0 0 0 ... 0 0 0]  [0. 0. 0. ... 0. 0. 0.]   \n",
       "2007-01-07  [0 0 0 ... 0 0 0]  [0. 0. 0. ... 0. 0. 0.]   \n",
       "2007-01-09  [0 0 0 ... 0 0 0]  [0. 0. 0. ... 0. 0. 0.]   \n",
       "\n",
       "                       Hash_Vectors   Price  \n",
       "Date                                         \n",
       "2007-01-03  [0. 0. 0. ... 0. 0. 0.]  1.1760  \n",
       "2007-01-04  [0. 0. 0. ... 0. 0. 0.]  1.1451  \n",
       "2007-01-05  [0. 0. 0. ... 0. 0. 0.]  1.1506  \n",
       "2007-01-07  [0. 0. 0. ... 0. 0. 0.]  1.1506  \n",
       "2007-01-09  [0. 0. 0. ... 0. 0. 0.]  1.1290  "
      ]
     },
     "execution_count": 5,
     "metadata": {},
     "output_type": "execute_result"
    }
   ],
   "source": [
    "coffee_shift_df = pd.concat([coffee[['Title']].shift(1),coffee[['Rate_of_Change']].shift(1),\\\n",
    "                             coffee[['CV_Vectors']].shift(1),coffee[['TFIDF_Vectors']].shift(1),\\\n",
    "                             coffee[['Hash_Vectors']].shift(1),coffee[['Price']]],axis=1)\n",
    "coffee_shift_df.dropna(inplace=True)\n",
    "coffee_shift_df.head()"
   ]
  },
  {
   "cell_type": "code",
   "execution_count": 6,
   "metadata": {},
   "outputs": [],
   "source": [
    "tokenizer = Tokenizer()\n",
    "\n",
    "X = coffee_shift_df['Title']\n",
    "y = coffee_shift_df['Price']\n",
    "\n",
    "X_token = tokenizer.fit_on_texts(X)\n",
    "X_matrix = tokenizer.texts_to_matrix(X)\n",
    "vocab_size = len(tokenizer.word_index) + 1"
   ]
  },
  {
   "cell_type": "code",
   "execution_count": 7,
   "metadata": {},
   "outputs": [
    {
     "data": {
      "text/plain": [
       "(1464, 3822)"
      ]
     },
     "execution_count": 7,
     "metadata": {},
     "output_type": "execute_result"
    }
   ],
   "source": [
    "X_matrix.shape"
   ]
  },
  {
   "cell_type": "code",
   "execution_count": 8,
   "metadata": {},
   "outputs": [],
   "source": [
    "model = Sequential()\n",
    "\n",
    "model.add(Embedding(vocab_size, 50))\n",
    "model.add(LSTM(150))\n",
    "model.add(Dense(100, activation='relu'))\n",
    "model.add(Dropout(.20))\n",
    "model.add(Dense(35, activation='relu'))\n",
    "model.add(Dense(1))\n",
    "          \n",
    "model.compile(loss='mean_absolute_error', optimizer = 'adam')"
   ]
  },
  {
   "cell_type": "code",
   "execution_count": null,
   "metadata": {},
   "outputs": [
    {
     "name": "stdout",
     "output_type": "stream",
     "text": [
      "Train on 1244 samples, validate on 220 samples\n",
      "Epoch 1/15\n"
     ]
    }
   ],
   "source": [
    "hist = model.fit(X_matrix, y, epochs=15, validation_split=0.15, batch_size=150)"
   ]
  },
  {
   "cell_type": "code",
   "execution_count": null,
   "metadata": {},
   "outputs": [],
   "source": [
    "hist.history.keys()"
   ]
  },
  {
   "cell_type": "code",
   "execution_count": null,
   "metadata": {},
   "outputs": [],
   "source": [
    "plt.figure(figsize=(10,10))\n",
    "plt.plot(hist.history['loss'], label = 'Training Loss')\n",
    "plt.plot(hist.history['val_loss'], label = 'Test Loss')\n",
    "plt.legend()"
   ]
  },
  {
   "cell_type": "code",
   "execution_count": null,
   "metadata": {},
   "outputs": [],
   "source": [
    "from keras.utils.vis_utils import plot_model as plot\n",
    "from IPthon.display import Image\n",
    "\n",
    "plt(model, to_file='model.png', show_shapes=True)\n",
    "Image('model.png')\n",
    "plt.show()"
   ]
  },
  {
   "cell_type": "code",
   "execution_count": 2,
   "metadata": {},
   "outputs": [
    {
     "ename": "NameError",
     "evalue": "name 'hist' is not defined",
     "output_type": "error",
     "traceback": [
      "\u001b[0;31m---------------------------------------------------------------------------\u001b[0m",
      "\u001b[0;31mNameError\u001b[0m                                 Traceback (most recent call last)",
      "\u001b[0;32m<ipython-input-2-9b32fc30fc93>\u001b[0m in \u001b[0;36m<module>\u001b[0;34m()\u001b[0m\n\u001b[0;32m----> 1\u001b[0;31m \u001b[0mpredicted\u001b[0m \u001b[0;34m=\u001b[0m \u001b[0mhist\u001b[0m\u001b[0;34m.\u001b[0m\u001b[0mpredict\u001b[0m\u001b[0;34m(\u001b[0m\u001b[0mX_test\u001b[0m\u001b[0;34m)\u001b[0m\u001b[0;34m\u001b[0m\u001b[0m\n\u001b[0m\u001b[1;32m      2\u001b[0m \u001b[0mpredicted\u001b[0m \u001b[0;34m=\u001b[0m \u001b[0mnp\u001b[0m\u001b[0;34m.\u001b[0m\u001b[0mreshape\u001b[0m\u001b[0;34m(\u001b[0m\u001b[0mpredicted\u001b[0m\u001b[0;34m,\u001b[0m \u001b[0;34m(\u001b[0m\u001b[0mpredicted\u001b[0m\u001b[0;34m.\u001b[0m\u001b[0msize\u001b[0m\u001b[0;34m,\u001b[0m\u001b[0;34m)\u001b[0m\u001b[0;34m)\u001b[0m\u001b[0;34m\u001b[0m\u001b[0m\n\u001b[1;32m      3\u001b[0m \u001b[0mvar\u001b[0m \u001b[0;34m=\u001b[0m \u001b[0mvariance\u001b[0m\u001b[0;34m(\u001b[0m\u001b[0mpredicted\u001b[0m\u001b[0;34m,\u001b[0m \u001b[0my_test\u001b[0m\u001b[0;34m)\u001b[0m\u001b[0;34m\u001b[0m\u001b[0m\n",
      "\u001b[0;31mNameError\u001b[0m: name 'hist' is not defined"
     ]
    }
   ],
   "source": [
    "predicted = hist.predict(X_test)\n",
    "predicted = np.reshape(predicted, (predicted.size,))\n",
    "var = variance(predicted, y_test)"
   ]
  },
  {
   "cell_type": "code",
   "execution_count": null,
   "metadata": {},
   "outputs": [],
   "source": [
    "print('Plotting Results')\n",
    "\n",
    "from matplotlib.legend_handler import HandlerLine2D\n",
    "\n",
    "line1 = plt.plot(y_test, marker='d', label='Actual')\n",
    "line2 = plt.plot(predicted, marker='o', label='Predicted')\n",
    "\n",
    "plt.legend(handler_map={line1: HandlerLine2D(numpoints=4)})\n",
    "plt.show()"
   ]
  },
  {
   "cell_type": "code",
   "execution_count": null,
   "metadata": {},
   "outputs": [],
   "source": []
  }
 ],
 "metadata": {
  "kernelspec": {
   "display_name": "Python 3",
   "language": "python",
   "name": "python3"
  },
  "language_info": {
   "codemirror_mode": {
    "name": "ipython",
    "version": 3
   },
   "file_extension": ".py",
   "mimetype": "text/x-python",
   "name": "python",
   "nbconvert_exporter": "python",
   "pygments_lexer": "ipython3",
   "version": "3.6.3"
  }
 },
 "nbformat": 4,
 "nbformat_minor": 2
}
