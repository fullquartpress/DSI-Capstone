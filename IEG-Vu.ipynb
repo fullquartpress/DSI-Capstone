{
 "cells": [
  {
   "cell_type": "code",
   "execution_count": 7,
   "metadata": {
    "collapsed": true
   },
   "outputs": [],
   "source": [
    "import re\n",
    "\n",
    "import requests\n",
    "from bs4 import BeautifulSoup\n",
    "\n",
    "\n",
    "# with requests.Session() as session:\n",
    "#     # extract the last page\n",
    "#     response = session.get(\"https://iegvu.agribusinessintelligence.informa.com/search#?page=1&iegvu=Coffee;Arabica;Robusta&publication=IEG%20Vu&sortBy=date&sortOrder=desc&perPage=50#searchTop\")    \n",
    "#     soup = BeautifulSoup(response.content, \"lxml\")\n",
    "#     last_page = int(re.search(\"page=(\\d+)\", soup.select_one(\"ol.search-pagination__pagination-list ng-scope\").))\n",
    "\n",
    "#     # loop over every page\n",
    "#     for page in range(last_page):\n",
    "#         response = session.get(\"https://iegvu.agribusinessintelligence.informa.com/search#?page=1&iegvu=Coffee;Arabica;Robusta&publication=IEG%20Vu&sortBy=date&sortOrder=desc&perPage=50#searchTop\" % page)\n",
    "#         soup = BeautifulSoup(response.content, \"lxml\")\n",
    "\n",
    "#         # print the title of every search result\n",
    "#         for result in soup.select(\"li.search-result\"):\n",
    "#             title = result.find(\"div\", class_=\"title\").get_text(strip=True)\n",
    "#             print(title)"
   ]
  },
  {
   "cell_type": "code",
   "execution_count": 21,
   "metadata": {
    "collapsed": true
   },
   "outputs": [],
   "source": [
    "headers = {'User-Agent': 'Mozilla/5.0'}\n",
    "\n",
    "for i in range(1, 189):\n",
    "    url = (\"https://iegvu.agribusinessintelligence.informa.com/search#?page='{:d}'&iegvu=Coffee;Arabica;Robusta&publication=IEG%20Vu&sortBy=date&sortOrder=desc&perPage=50#searchTop\").format(i)\n",
    "    \n",
    "    response = requests.get(url, headers=headers)\n",
    "    soup = BeautifulSoup(response.text, \"html.parser\")\n",
    "    \n",
    "    articles = soup.find_all(class_='search-result__heading article-preview__headline click-utag ng-binding')\n",
    "    \n",
    "    results = []\n",
    "    for items in articles:\n",
    "    \n",
    "        title = items.text\n",
    "        results.append(title)\n",
    "\n",
    "    dates = soup.find_all(class_='search-result__pubdate ng-scope')\n",
    "    \n",
    "    day_results = []\n",
    "    for items in dates:\n",
    "    \n",
    "        date = items.text\n",
    "        day_results.append(date)"
   ]
  },
  {
   "cell_type": "code",
   "execution_count": 22,
   "metadata": {},
   "outputs": [
    {
     "data": {
      "text/plain": [
       "[]"
      ]
     },
     "execution_count": 22,
     "metadata": {},
     "output_type": "execute_result"
    }
   ],
   "source": [
    "results"
   ]
  },
  {
   "cell_type": "code",
   "execution_count": 23,
   "metadata": {},
   "outputs": [
    {
     "data": {
      "text/plain": [
       "[]"
      ]
     },
     "execution_count": 23,
     "metadata": {},
     "output_type": "execute_result"
    }
   ],
   "source": [
    "day_results"
   ]
  },
  {
   "cell_type": "code",
   "execution_count": null,
   "metadata": {
    "collapsed": true
   },
   "outputs": [],
   "source": []
  },
  {
   "cell_type": "markdown",
   "metadata": {},
   "source": []
  }
 ],
 "metadata": {
  "kernelspec": {
   "display_name": "Python 3",
   "language": "python",
   "name": "python3"
  },
  "language_info": {
   "codemirror_mode": {
    "name": "ipython",
    "version": 3
   },
   "file_extension": ".py",
   "mimetype": "text/x-python",
   "name": "python",
   "nbconvert_exporter": "python",
   "pygments_lexer": "ipython3",
   "version": "3.6.3"
  }
 },
 "nbformat": 4,
 "nbformat_minor": 2
}
