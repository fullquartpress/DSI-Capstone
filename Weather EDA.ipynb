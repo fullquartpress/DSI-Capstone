{
 "cells": [
  {
   "cell_type": "code",
   "execution_count": 11,
   "metadata": {},
   "outputs": [],
   "source": [
    "import numpy as np\n",
    "import pandas as pd\n",
    "import matplotlib.pyplot as plt\n",
    "%matplotlib inline\n"
   ]
  },
  {
   "cell_type": "code",
   "execution_count": 12,
   "metadata": {},
   "outputs": [],
   "source": [
    "costa_rica = pd.read_csv('./Weather/Costa_Rica.csv')\n",
    "peru = pd.read_csv('./Weather/Peru.csv')\n",
    "mexico = pd.read_csv('./Weather/Mexico.csv')\n",
    "mexico_2 = pd.read_csv('./Weather/Mexico_2.csv')\n",
    "el_salvador = pd.read_csv('./Weather/El_Salvador.csv')\n",
    "brazil = pd.read_csv('./Weather/Brazil.csv')\n",
    "honduras = pd.read_csv('./Weather/Honduras.csv')"
   ]
  },
  {
   "cell_type": "code",
   "execution_count": 6,
   "metadata": {},
   "outputs": [
    {
     "name": "stdout",
     "output_type": "stream",
     "text": [
      "(6635, 7)\n",
      "(22559, 7)\n",
      "(56454, 8)\n",
      "(12462, 7)\n",
      "(11100, 7)\n",
      "(34201, 9)\n",
      "(13091, 7)\n"
     ]
    }
   ],
   "source": [
    "print(costa_rica.shape)\n",
    "print(peru.shape)\n",
    "print(mexico.shape)\n",
    "print(mexico_2.shape)\n",
    "print(el_salvador.shape)\n",
    "print(brazil.shape)\n",
    "print(honduras.shape)"
   ]
  },
  {
   "cell_type": "code",
   "execution_count": 18,
   "metadata": {},
   "outputs": [
    {
     "data": {
      "text/html": [
       "<div>\n",
       "<table border=\"1\" class=\"dataframe\">\n",
       "  <thead>\n",
       "    <tr style=\"text-align: right;\">\n",
       "      <th></th>\n",
       "      <th>STATION</th>\n",
       "      <th>NAME</th>\n",
       "      <th>DATE</th>\n",
       "      <th>PRCP</th>\n",
       "      <th>TAVG</th>\n",
       "      <th>TMAX</th>\n",
       "      <th>TMIN</th>\n",
       "    </tr>\n",
       "  </thead>\n",
       "  <tbody>\n",
       "    <tr>\n",
       "      <th>0</th>\n",
       "      <td>CSM00078762</td>\n",
       "      <td>JUAN SANTAMARIA INTERNATIONAL, CS</td>\n",
       "      <td>1/1/00</td>\n",
       "      <td>NaN</td>\n",
       "      <td>74</td>\n",
       "      <td>82.0</td>\n",
       "      <td>59.0</td>\n",
       "    </tr>\n",
       "    <tr>\n",
       "      <th>1</th>\n",
       "      <td>CSM00078762</td>\n",
       "      <td>JUAN SANTAMARIA INTERNATIONAL, CS</td>\n",
       "      <td>1/2/00</td>\n",
       "      <td>NaN</td>\n",
       "      <td>72</td>\n",
       "      <td>NaN</td>\n",
       "      <td>NaN</td>\n",
       "    </tr>\n",
       "    <tr>\n",
       "      <th>2</th>\n",
       "      <td>CSM00078762</td>\n",
       "      <td>JUAN SANTAMARIA INTERNATIONAL, CS</td>\n",
       "      <td>1/3/00</td>\n",
       "      <td>NaN</td>\n",
       "      <td>73</td>\n",
       "      <td>81.0</td>\n",
       "      <td>63.0</td>\n",
       "    </tr>\n",
       "    <tr>\n",
       "      <th>3</th>\n",
       "      <td>CSM00078762</td>\n",
       "      <td>JUAN SANTAMARIA INTERNATIONAL, CS</td>\n",
       "      <td>1/4/00</td>\n",
       "      <td>NaN</td>\n",
       "      <td>71</td>\n",
       "      <td>NaN</td>\n",
       "      <td>NaN</td>\n",
       "    </tr>\n",
       "    <tr>\n",
       "      <th>4</th>\n",
       "      <td>CSM00078762</td>\n",
       "      <td>JUAN SANTAMARIA INTERNATIONAL, CS</td>\n",
       "      <td>1/5/00</td>\n",
       "      <td>NaN</td>\n",
       "      <td>70</td>\n",
       "      <td>80.0</td>\n",
       "      <td>63.0</td>\n",
       "    </tr>\n",
       "    <tr>\n",
       "      <th>5</th>\n",
       "      <td>CSM00078762</td>\n",
       "      <td>JUAN SANTAMARIA INTERNATIONAL, CS</td>\n",
       "      <td>1/6/00</td>\n",
       "      <td>NaN</td>\n",
       "      <td>70</td>\n",
       "      <td>80.0</td>\n",
       "      <td>65.0</td>\n",
       "    </tr>\n",
       "    <tr>\n",
       "      <th>6</th>\n",
       "      <td>CSM00078762</td>\n",
       "      <td>JUAN SANTAMARIA INTERNATIONAL, CS</td>\n",
       "      <td>1/7/00</td>\n",
       "      <td>0.00</td>\n",
       "      <td>71</td>\n",
       "      <td>NaN</td>\n",
       "      <td>NaN</td>\n",
       "    </tr>\n",
       "    <tr>\n",
       "      <th>7</th>\n",
       "      <td>CSM00078762</td>\n",
       "      <td>JUAN SANTAMARIA INTERNATIONAL, CS</td>\n",
       "      <td>1/8/00</td>\n",
       "      <td>0.14</td>\n",
       "      <td>70</td>\n",
       "      <td>NaN</td>\n",
       "      <td>NaN</td>\n",
       "    </tr>\n",
       "    <tr>\n",
       "      <th>8</th>\n",
       "      <td>CSM00078762</td>\n",
       "      <td>JUAN SANTAMARIA INTERNATIONAL, CS</td>\n",
       "      <td>1/9/00</td>\n",
       "      <td>0.15</td>\n",
       "      <td>71</td>\n",
       "      <td>82.0</td>\n",
       "      <td>65.0</td>\n",
       "    </tr>\n",
       "    <tr>\n",
       "      <th>9</th>\n",
       "      <td>CSM00078762</td>\n",
       "      <td>JUAN SANTAMARIA INTERNATIONAL, CS</td>\n",
       "      <td>1/10/00</td>\n",
       "      <td>0.00</td>\n",
       "      <td>71</td>\n",
       "      <td>NaN</td>\n",
       "      <td>NaN</td>\n",
       "    </tr>\n",
       "    <tr>\n",
       "      <th>10</th>\n",
       "      <td>CSM00078762</td>\n",
       "      <td>JUAN SANTAMARIA INTERNATIONAL, CS</td>\n",
       "      <td>1/11/00</td>\n",
       "      <td>NaN</td>\n",
       "      <td>76</td>\n",
       "      <td>81.0</td>\n",
       "      <td>63.0</td>\n",
       "    </tr>\n",
       "    <tr>\n",
       "      <th>11</th>\n",
       "      <td>CSM00078762</td>\n",
       "      <td>JUAN SANTAMARIA INTERNATIONAL, CS</td>\n",
       "      <td>1/12/00</td>\n",
       "      <td>NaN</td>\n",
       "      <td>73</td>\n",
       "      <td>NaN</td>\n",
       "      <td>NaN</td>\n",
       "    </tr>\n",
       "    <tr>\n",
       "      <th>12</th>\n",
       "      <td>CSM00078762</td>\n",
       "      <td>JUAN SANTAMARIA INTERNATIONAL, CS</td>\n",
       "      <td>1/13/00</td>\n",
       "      <td>NaN</td>\n",
       "      <td>74</td>\n",
       "      <td>80.0</td>\n",
       "      <td>68.0</td>\n",
       "    </tr>\n",
       "    <tr>\n",
       "      <th>13</th>\n",
       "      <td>CSM00078762</td>\n",
       "      <td>JUAN SANTAMARIA INTERNATIONAL, CS</td>\n",
       "      <td>1/14/00</td>\n",
       "      <td>NaN</td>\n",
       "      <td>71</td>\n",
       "      <td>82.0</td>\n",
       "      <td>67.0</td>\n",
       "    </tr>\n",
       "    <tr>\n",
       "      <th>14</th>\n",
       "      <td>CSM00078762</td>\n",
       "      <td>JUAN SANTAMARIA INTERNATIONAL, CS</td>\n",
       "      <td>1/15/00</td>\n",
       "      <td>NaN</td>\n",
       "      <td>68</td>\n",
       "      <td>79.0</td>\n",
       "      <td>65.0</td>\n",
       "    </tr>\n",
       "  </tbody>\n",
       "</table>\n",
       "</div>"
      ],
      "text/plain": [
       "        STATION                               NAME     DATE  PRCP  TAVG  TMAX  \\\n",
       "0   CSM00078762  JUAN SANTAMARIA INTERNATIONAL, CS   1/1/00   NaN    74  82.0   \n",
       "1   CSM00078762  JUAN SANTAMARIA INTERNATIONAL, CS   1/2/00   NaN    72   NaN   \n",
       "2   CSM00078762  JUAN SANTAMARIA INTERNATIONAL, CS   1/3/00   NaN    73  81.0   \n",
       "3   CSM00078762  JUAN SANTAMARIA INTERNATIONAL, CS   1/4/00   NaN    71   NaN   \n",
       "4   CSM00078762  JUAN SANTAMARIA INTERNATIONAL, CS   1/5/00   NaN    70  80.0   \n",
       "5   CSM00078762  JUAN SANTAMARIA INTERNATIONAL, CS   1/6/00   NaN    70  80.0   \n",
       "6   CSM00078762  JUAN SANTAMARIA INTERNATIONAL, CS   1/7/00  0.00    71   NaN   \n",
       "7   CSM00078762  JUAN SANTAMARIA INTERNATIONAL, CS   1/8/00  0.14    70   NaN   \n",
       "8   CSM00078762  JUAN SANTAMARIA INTERNATIONAL, CS   1/9/00  0.15    71  82.0   \n",
       "9   CSM00078762  JUAN SANTAMARIA INTERNATIONAL, CS  1/10/00  0.00    71   NaN   \n",
       "10  CSM00078762  JUAN SANTAMARIA INTERNATIONAL, CS  1/11/00   NaN    76  81.0   \n",
       "11  CSM00078762  JUAN SANTAMARIA INTERNATIONAL, CS  1/12/00   NaN    73   NaN   \n",
       "12  CSM00078762  JUAN SANTAMARIA INTERNATIONAL, CS  1/13/00   NaN    74  80.0   \n",
       "13  CSM00078762  JUAN SANTAMARIA INTERNATIONAL, CS  1/14/00   NaN    71  82.0   \n",
       "14  CSM00078762  JUAN SANTAMARIA INTERNATIONAL, CS  1/15/00   NaN    68  79.0   \n",
       "\n",
       "    TMIN  \n",
       "0   59.0  \n",
       "1    NaN  \n",
       "2   63.0  \n",
       "3    NaN  \n",
       "4   63.0  \n",
       "5   65.0  \n",
       "6    NaN  \n",
       "7    NaN  \n",
       "8   65.0  \n",
       "9    NaN  \n",
       "10  63.0  \n",
       "11   NaN  \n",
       "12  68.0  \n",
       "13  67.0  \n",
       "14  65.0  "
      ]
     },
     "execution_count": 18,
     "metadata": {},
     "output_type": "execute_result"
    }
   ],
   "source": [
    "costa_rica.head(15)"
   ]
  },
  {
   "cell_type": "code",
   "execution_count": 8,
   "metadata": {},
   "outputs": [
    {
     "data": {
      "text/plain": [
       "STATION       0\n",
       "NAME          0\n",
       "DATE          0\n",
       "PRCP       3274\n",
       "TAVG          0\n",
       "TMAX       1979\n",
       "TMIN       1979\n",
       "dtype: int64"
      ]
     },
     "execution_count": 8,
     "metadata": {},
     "output_type": "execute_result"
    }
   ],
   "source": [
    "costa_rica.isnull().sum()"
   ]
  },
  {
   "cell_type": "code",
   "execution_count": 20,
   "metadata": {},
   "outputs": [
    {
     "data": {
      "text/plain": [
       "array(['CSM00078762'], dtype=object)"
      ]
     },
     "execution_count": 20,
     "metadata": {},
     "output_type": "execute_result"
    }
   ],
   "source": [
    "costa_rica.STATION.unique()"
   ]
  },
  {
   "cell_type": "code",
   "execution_count": null,
   "metadata": {},
   "outputs": [],
   "source": []
  },
  {
   "cell_type": "code",
   "execution_count": null,
   "metadata": {},
   "outputs": [],
   "source": []
  }
 ],
 "metadata": {
  "kernelspec": {
   "display_name": "Python 3",
   "language": "python",
   "name": "python3"
  },
  "language_info": {
   "codemirror_mode": {
    "name": "ipython",
    "version": 3
   },
   "file_extension": ".py",
   "mimetype": "text/x-python",
   "name": "python",
   "nbconvert_exporter": "python",
   "pygments_lexer": "ipython3",
   "version": "3.6.3"
  }
 },
 "nbformat": 4,
 "nbformat_minor": 2
}
